{
 "cells": [
  {
   "cell_type": "code",
   "execution_count": null,
   "metadata": {},
   "outputs": [],
   "source": [
    "import cv2\n",
    "import h5py\n",
    "\n",
    "\n",
    "def play_images_from_hdf5_opencv(file_path, group_name, dataset_name, joint_positions_dataset, frame_rate=30):\n",
    "    \n",
    "    interval = int(1000 / frame_rate)\n",
    "    \n",
    "    # Open the HDF5 file\n",
    "    with h5py.File(file_path, 'r') as file:\n",
    "        images_dataset = file[group_name][dataset_name]\n",
    "        joint_positions = file[group_name][joint_positions_dataset]\n",
    "\n",
    "        cv2.namedWindow('HDF5 Image Sequence', cv2.WINDOW_NORMAL)\n",
    "        \n",
    "        for i in range(images_dataset.shape[0]):\n",
    "            image = images_dataset[i, ...]\n",
    "            if image.dtype != 'uint8':\n",
    "                image = image.astype('uint8')\n",
    "\n",
    "            cv2.imshow('HDF5 Image Sequence', image)\n",
    "            \n",
    "            if i < len(joint_positions):\n",
    "                print(f\"Frame {i+1}: Joint Positions: {joint_positions[i]}\")\n",
    "            else:\n",
    "                print(f\"Frame {i+1}: No joint position data available.\")\n",
    "            \n",
    "            # Wait for the specified interval\n",
    "            key = cv2.waitKey(interval)\n",
    "            if key == 27:  \n",
    "                break\n",
    "\n",
    "        \n",
    "        cv2.destroyAllWindows()"
   ]
  },
  {
   "cell_type": "markdown",
   "metadata": {},
   "source": [
    "Give episode path below"
   ]
  },
  {
   "cell_type": "code",
   "execution_count": null,
   "metadata": {},
   "outputs": [],
   "source": [
    "hdf5_path = f'/home/navaneet/Desktop/ACTfranka/ACTfranka/demo/episode_0.hdf5'\n",
    "\n",
    "    \n",
    "group_name = 'observations'\n",
    "images_dataset_name = 'images/front'\n",
    "joint_positions_dataset_name = 'qpos'\n",
    "frame_rate = 25  \n",
    "play_images_from_hdf5_opencv(hdf5_path, group_name, images_dataset_name, joint_positions_dataset_name, frame_rate)"
   ]
  },
  {
   "cell_type": "code",
   "execution_count": null,
   "metadata": {},
   "outputs": [],
   "source": []
  }
 ],
 "metadata": {
  "kernelspec": {
   "display_name": "Python 3",
   "language": "python",
   "name": "python3"
  },
  "language_info": {
   "codemirror_mode": {
    "name": "ipython",
    "version": 3
   },
   "file_extension": ".py",
   "mimetype": "text/x-python",
   "name": "python",
   "nbconvert_exporter": "python",
   "pygments_lexer": "ipython3",
   "version": "3.8.10"
  }
 },
 "nbformat": 4,
 "nbformat_minor": 2
}
